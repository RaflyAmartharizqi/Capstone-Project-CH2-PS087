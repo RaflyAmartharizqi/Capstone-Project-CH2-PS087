{
  "cells": [
    {
      "cell_type": "markdown",
      "metadata": {
        "id": "_dEaVsqSgNyQ"
      },
      "source": [
        "##### Copyright 2020 The TensorFlow Authors."
      ]
    },
    {
      "cell_type": "code",
      "execution_count": null,
      "metadata": {
        "cellView": "form",
        "id": "4FyfuZX-gTKS"
      },
      "outputs": [],
      "source": [
        "#@title Licensed under the Apache License, Version 2.0 (the \"License\");\n",
        "# you may not use this file except in compliance with the License.\n",
        "# You may obtain a copy of the License at\n",
        "#\n",
        "# https://www.apache.org/licenses/LICENSE-2.0\n",
        "#\n",
        "# Unless required by applicable law or agreed to in writing, software\n",
        "# distributed under the License is distributed on an \"AS IS\" BASIS,\n",
        "# WITHOUT WARRANTIES OR CONDITIONS OF ANY KIND, either express or implied.\n",
        "# See the License for the specific language governing permissions and\n",
        "# limitations under the License."
      ]
    },
    {
      "cell_type": "markdown",
      "metadata": {
        "id": "sT8AyHRMNh41"
      },
      "source": [
        "# TensorFlow Recommenders: Quickstart\n",
        "\n",
        "<table class=\"tfo-notebook-buttons\" align=\"left\">\n",
        "  <td>\n",
        "    <a target=\"_blank\" href=\"https://www.tensorflow.org/recommenders/quickstart\"><img src=\"https://www.tensorflow.org/images/tf_logo_32px.png\" />View on TensorFlow.org</a>\n",
        "  </td>\n",
        "  <td>\n",
        "    <a target=\"_blank\" href=\"https://colab.research.google.com/github/tensorflow/recommenders/blob/main/docs/examples/quickstart.ipynb\"><img src=\"https://www.tensorflow.org/images/colab_logo_32px.png\" />Run in Google Colab</a>\n",
        "  </td>\n",
        "  <td>\n",
        "    <a target=\"_blank\" href=\"https://github.com/tensorflow/recommenders/blob/main/docs/examples/quickstart.ipynb\"><img src=\"https://www.tensorflow.org/images/GitHub-Mark-32px.png\" />View source on GitHub</a>\n",
        "  </td>\n",
        "  <td>\n",
        "    <a href=\"https://storage.googleapis.com/tensorflow_docs/recommenders/docs/examples/quickstart.ipynb\"><img src=\"https://www.tensorflow.org/images/download_logo_32px.png\" />Download notebook</a>\n",
        "  </td>\n",
        "</table>"
      ]
    },
    {
      "cell_type": "markdown",
      "metadata": {
        "id": "8f-reQ11gbLB"
      },
      "source": [
        "In this tutorial, we build a simple matrix factorization model using the [MovieLens 100K dataset](https://grouplens.org/datasets/movielens/100k/) with TFRS. We can use this model to recommend movies for a given user."
      ]
    },
    {
      "cell_type": "markdown",
      "metadata": {
        "id": "qA00wBE2Ntdm"
      },
      "source": [
        "### Import TFRS\n",
        "\n",
        "First, install and import TFRS:"
      ]
    },
    {
      "cell_type": "code",
      "execution_count": null,
      "metadata": {
        "id": "6yzAaM85Z12D"
      },
      "outputs": [],
      "source": [
        "!pip install -q tensorflow-recommenders\n",
        "!pip install -q --upgrade tensorflow-datasets"
      ]
    },
    {
      "cell_type": "code",
      "execution_count": null,
      "metadata": {
        "id": "n3oYt3R6Nr9l"
      },
      "outputs": [],
      "source": [
        "from typing import Dict, Text\n",
        "\n",
        "import numpy as np\n",
        "import tensorflow as tf\n",
        "import pandas as pd\n",
        "import pprint\n",
        "\n",
        "import tensorflow_datasets as tfds\n",
        "import tensorflow_recommenders as tfrs"
      ]
    },
    {
      "cell_type": "markdown",
      "metadata": {
        "id": "zCxQ1CZcO2wh"
      },
      "source": [
        "### Read the data Interaksi pengguna\n"
      ]
    },
    {
      "cell_type": "code",
      "execution_count": null,
      "metadata": {
        "id": "M-mxBYjdO5m7"
      },
      "outputs": [],
      "source": [
        "# Ratings data.\n",
        "dataset_interaksi = 'dataset/Interaksi_Pengguna_dengan_Resep.csv'\n",
        "df_ratings = pd.read_csv(dataset_interaksi)\n",
        "\n",
        "def create_tf_dataset(dataframe):\n",
        "    # Convert 'user_id' to string\n",
        "    dataframe['user_id'] = dataframe['user_id'].astype(str)\n",
        "    dataframe['food_name'] = dataframe['food_name'].astype(str)\n",
        "\n",
        "    # Convert Pandas DataFrame to TensorFlow Dataset\n",
        "    tf_dataset = tf.data.Dataset.from_tensor_slices({\n",
        "        'user_id': tf.constant(dataframe['user_id'].values, dtype=tf.string),\n",
        "        'food_name': tf.constant(dataframe['food_name'].values, dtype=tf.string),\n",
        "        'rating': tf.constant(dataframe['rating'].values, dtype=tf.int32),\n",
        "    })\n",
        "    return tf_dataset\n",
        "\n",
        "# Create TensorFlow Dataset for the entire dataset\n",
        "ratings_food = create_tf_dataset(df_ratings)\n",
        "ratings = ratings_food.map(lambda x: {\n",
        "    \"user_id\": x[\"user_id\"],\n",
        "    \"food_name\": x[\"food_name\"]\n",
        "})\n",
        "print(ratings_food)"
      ]
    },
    {
      "cell_type": "code",
      "source": [
        "dataset_resep = 'Resep_Dengan_Kolom_Alergen.csv'\n",
        "df_resep = pd.read_csv(dataset_resep)\n",
        "\n",
        "df_resep.head()"
      ],
      "metadata": {
        "id": "v7i1ldSWQbmS"
      },
      "execution_count": null,
      "outputs": []
    },
    {
      "cell_type": "code",
      "source": [
        "# Ratings data.\n",
        "dataset_food = 'dataset/Resep_Dengan_Kolom_Alergen.csv'\n",
        "df_ratings = pd.read_csv(dataset_food)\n",
        "\n",
        "def create_tf_dataset(dataframe):\n",
        "    # Convert 'user_id' to string\n",
        "    dataframe['food_name'] = dataframe['food_name'].astype(str)\n",
        "\n",
        "    # Convert Pandas DataFrame to TensorFlow Dataset\n",
        "    tf_dataset = tf.data.Dataset.from_tensor_slices({\n",
        "        'food_name': tf.constant(dataframe['food_name'].values, dtype=tf.string),\n",
        "\n",
        "    })\n",
        "    return tf_dataset\n",
        "\n",
        "# Create TensorFlow Dataset for the entire dataset\n",
        "food = create_tf_dataset(df_ratings)\n",
        "food = food.map(lambda x: x[\"food_name\"])\n",
        "print(food)\n"
      ],
      "metadata": {
        "id": "_8CAGTa7CLxO"
      },
      "execution_count": null,
      "outputs": []
    },
    {
      "cell_type": "markdown",
      "metadata": {
        "id": "5W0HSfmSNCWm"
      },
      "source": [
        "Build vocabularies to convert user ids and movie titles into integer indices for embedding layers:"
      ]
    },
    {
      "cell_type": "code",
      "execution_count": null,
      "metadata": {
        "id": "9I1VTEjHzpfX"
      },
      "outputs": [],
      "source": [
        "user_ids_vocabulary = tf.keras.layers.StringLookup(mask_token=None)\n",
        "user_ids_vocabulary.adapt(ratings.map(lambda x: x[\"user_id\"]))\n",
        "\n",
        "food_name_vocabulary = tf.keras.layers.StringLookup(mask_token=None)\n",
        "food_name_vocabulary.adapt(food)"
      ]
    },
    {
      "cell_type": "markdown",
      "metadata": {
        "id": "Lrch6rVBOB9Q"
      },
      "source": [
        "### Define a model for food recommendation"
      ]
    },
    {
      "cell_type": "code",
      "execution_count": null,
      "metadata": {
        "id": "e5dNbDZwOIHR"
      },
      "outputs": [],
      "source": [
        "class FoodLensModel(tfrs.Model):\n",
        "  # We derive from a custom base class to help reduce boilerplate. Under the hood,\n",
        "  # these are still plain Keras Models.\n",
        "\n",
        "  def __init__(\n",
        "      self,\n",
        "      user_model: tf.keras.Model,\n",
        "      food_model: tf.keras.Model,\n",
        "      task: tfrs.tasks.Retrieval):\n",
        "    super().__init__()\n",
        "\n",
        "    # Set up user and food representations.\n",
        "    self.user_model = user_model\n",
        "    self.food_model = food_model\n",
        "\n",
        "    # Set up a retrieval task.\n",
        "    self.task = task\n",
        "\n",
        "  def compute_loss(self, features: Dict[Text, tf.Tensor], training=False) -> tf.Tensor:\n",
        "    # Define how the loss is computed.\n",
        "\n",
        "    user_embeddings = self.user_model(features[\"user_id\"])\n",
        "    food_embeddings = self.food_model(features[\"food_name\"])\n",
        "\n",
        "    return self.task(user_embeddings, food_embeddings)"
      ]
    },
    {
      "cell_type": "markdown",
      "metadata": {
        "id": "wdwtgUCEOI8y"
      },
      "source": [
        "Define the two models and the retrieval task."
      ]
    },
    {
      "cell_type": "code",
      "execution_count": null,
      "metadata": {
        "id": "EvtnUN6aUY4U"
      },
      "outputs": [],
      "source": [
        "# Define user and movie models.\n",
        "user_model = tf.keras.Sequential([\n",
        "    user_ids_vocabulary,\n",
        "    tf.keras.layers.Embedding(user_ids_vocabulary.vocab_size(), 64)\n",
        "])\n",
        "food_model = tf.keras.Sequential([\n",
        "    food_name_vocabulary,\n",
        "    tf.keras.layers.Embedding(food_name_vocabulary.vocab_size(), 64)\n",
        "])\n",
        "\n",
        "# Define your objectives.\n",
        "task = tfrs.tasks.Retrieval(metrics=tfrs.metrics.FactorizedTopK(\n",
        "    food.batch(128).map(food_model)\n",
        "  )\n",
        ")"
      ]
    },
    {
      "cell_type": "markdown",
      "metadata": {
        "id": "BMV0HpzmJGWk"
      },
      "source": [
        "\n",
        "### Fit and evaluate it.\n",
        "\n",
        "Create the model, train it, and generate predictions:\n",
        "\n"
      ]
    },
    {
      "cell_type": "code",
      "execution_count": null,
      "metadata": {
        "id": "H2tQDhqkOKf1"
      },
      "outputs": [],
      "source": [
        "# Create a retrieval model.\n",
        "model = FoodLensModel(user_model, food_model, task)\n",
        "model.compile(optimizer=tf.keras.optimizers.Adagrad(0.5))\n",
        "\n",
        "# Train for 3 epochs.\n",
        "model.fit(ratings.batch(4096), epochs=10)\n",
        "\n",
        "# Use brute-force search to set up retrieval using the trained representations.\n",
        "index = tfrs.layers.factorized_top_k.BruteForce(model.user_model)\n",
        "index.index_from_dataset(\n",
        "    food.batch(100).map(lambda food_name: (food_name, model.food_model(food_name))))\n",
        "\n",
        "# Get some recommendations.\n",
        "_, food_name = index(np.array([\"42\"]))\n",
        "print(f\"Top 3 recommendations for user 42: {food_name[0, :3]}\")"
      ]
    },
    {
      "cell_type": "code",
      "source": [
        "# Get some recommendations.\n",
        "_, food_name = index(np.array([\"42\"]))\n",
        "print(f\"Top 3 recommendations for user 42: {food_name[0, :3]}\")"
      ],
      "metadata": {
        "id": "OYNMXw_5AfMY"
      },
      "execution_count": null,
      "outputs": []
    }
  ],
  "metadata": {
    "colab": {
      "private_outputs": true,
      "provenance": []
    },
    "kernelspec": {
      "display_name": "Python 3",
      "language": "python",
      "name": "python3"
    }
  },
  "nbformat": 4,
  "nbformat_minor": 0
}